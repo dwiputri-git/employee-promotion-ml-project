{
  "cells": [
    {
      "cell_type": "markdown",
      "metadata": {},
      "source": [
        "# 01 - Data Intro and Documentation (V3)\n",
        "\n",
        "- Verify delimiter, schema, dtypes, row/col counts\n",
        "- Compute class balance and missingness summary\n",
        "- Write dataset card to `v3_artifacts/dataset_card.md`\n",
        "- Save quick profile plots if needed\n"
      ]
    },
    {
      "cell_type": "code",
      "execution_count": null,
      "metadata": {},
      "outputs": [],
      "source": [
        "from pathlib import Path\n",
        "import pandas as pd\n",
        "\n",
        "# Config\n",
        "DATA_PATH = Path('../data/employee-promotion.csv')\n",
        "ARTIFACTS = Path('../v3_artifacts')\n",
        "ARTIFACTS.mkdir(parents=True, exist_ok=True)\n",
        "\n",
        "# Robust CSV loading (auto detect ; vs ,)\n",
        "df = pd.read_csv(DATA_PATH)\n",
        "if len(df.columns) == 1 and ';' in df.columns[0]:\n",
        "    df = pd.read_csv(DATA_PATH, sep=';')\n",
        "\n",
        "print('Shape:', df.shape)\n",
        "print('Columns:', list(df.columns))\n",
        "print('Dtypes:\\n', df.dtypes)\n",
        "print('\\nMissing per column:\\n', df.isna().sum())\n",
        "print('\\nHead:')\n",
        "display(df.head())\n"
      ]
    }
  ],
  "metadata": {
    "language_info": {
      "name": "python"
    }
  },
  "nbformat": 4,
  "nbformat_minor": 2
}
