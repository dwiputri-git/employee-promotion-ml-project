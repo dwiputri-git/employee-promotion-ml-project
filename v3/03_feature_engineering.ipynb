{
  "cells": [
    {
      "cell_type": "markdown",
      "metadata": {},
      "source": [
        "# 03 - Feature Engineering (V3)\n",
        "\n",
        "- Create bins (training, leadership, projects/tenure, tenure, age)\n",
        "- Create interactions and log1p for highly skewed positives\n",
        "- Drop identifiers; document selection\n",
        "- Save to `../v3_data/employee_promotion_features.csv`\n"
      ]
    },
    {
      "cell_type": "code",
      "execution_count": null,
      "metadata": {},
      "outputs": [],
      "source": [
        "from pathlib import Path\n",
        "import numpy as np\n",
        "import pandas as pd\n",
        "\n",
        "INP = Path('../v3_data/employee_promotion_clean.csv')\n",
        "OUT = Path('../v3_data/employee_promotion_features.csv')\n",
        "OUT.parent.mkdir(parents=True, exist_ok=True)\n",
        "\n",
        "df = pd.read_csv(INP)\n",
        "\n",
        "# Bins and engineered features\n",
        "df['Training_Level'] = pd.qcut(df['Training_Hours'], q=5, labels=['Very Low','Low','Moderate','High','Very High'])\n",
        "df['Leadership_Level'] = pd.qcut(df['Leadership_Score'], q=4, labels=['Low','Medium','High','Very High'])\n",
        "\n",
        "df['Projects_per_Years'] = df['Projects_Handled'] / (df['Years_at_Company'] + 1)\n",
        "df['Project_Level'] = pd.qcut(df['Projects_per_Years'], q=4, labels=['Low','Moderate','High','Very High'])\n",
        "\n",
        "df['Tenure_Level'] = pd.qcut(df['Years_at_Company'], q=4, labels=['New','Mid','Senior','Veteran'])\n",
        "df['Age_Group'] = pd.qcut(df['Age'], q=4, labels=['Young','Early Mid','Late Mid','Senior'])\n",
        "\n",
        "# Interaction example\n",
        "df['Perf_x_Leader'] = df['Performance_Score'] * df['Leadership_Score']\n",
        "\n",
        "# Log for skewed positives\n",
        "if (df['Projects_per_Years'] >= 0).all():\n",
        "    df['Projects_per_Years_log'] = np.log1p(df['Projects_per_Years'])\n",
        "\n",
        "# Drop identifiers and redundant intermed.\n",
        "for col in ['Employee_ID']:\n",
        "    if col in df.columns:\n",
        "        df.drop(columns=[col], inplace=True)\n",
        "df.drop(columns=['Projects_per_Years'], inplace=True)\n",
        "\n",
        "# Save\n",
        "df.to_csv(OUT, index=False)\n",
        "print('Saved:', OUT, 'Shape:', df.shape)\n"
      ]
    }
  ],
  "metadata": {
    "language_info": {
      "name": "python"
    }
  },
  "nbformat": 4,
  "nbformat_minor": 2
}
