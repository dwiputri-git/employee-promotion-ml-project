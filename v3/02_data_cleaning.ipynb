{
  "cells": [
    {
      "cell_type": "markdown",
      "metadata": {},
      "source": [
        "# 02 - Data Cleaning (V3)\n",
        "\n",
        "- Drop NA on target; cast to int\n",
        "- Impute numeric (median) and categorical (mode)\n",
        "- Handle duplicates; outliers via IQR (drop/winsorize)\n",
        "- Remove negative numeric anomalies\n",
        "- Save to `../v3_data/employee_promotion_clean.csv`\n"
      ]
    },
    {
      "cell_type": "code",
      "execution_count": null,
      "metadata": {},
      "outputs": [],
      "source": [
        "from pathlib import Path\n",
        "import numpy as np\n",
        "import pandas as pd\n",
        "\n",
        "RAW = Path('../data/employee-promotion.csv')\n",
        "OUT = Path('../v3_data/employee_promotion_clean.csv')\n",
        "OUT.parent.mkdir(parents=True, exist_ok=True)\n",
        "\n",
        "# Load with delimiter detection\n",
        "df = pd.read_csv(RAW)\n",
        "if len(df.columns) == 1 and ';' in df.columns[0]:\n",
        "    df = pd.read_csv(RAW, sep=';')\n",
        "\n",
        "TARGET = 'Promotion_Eligible'\n",
        "\n",
        "# Drop NA on target and cast to int\n",
        "df = df.dropna(subset=[TARGET]).copy()\n",
        "df[TARGET] = df[TARGET].astype(int)\n",
        "\n",
        "# Numeric/Categorical split\n",
        "num_cols = df.select_dtypes(include=np.number).columns.drop([TARGET])\n",
        "cat_cols = df.select_dtypes(exclude=np.number).columns\n",
        "\n",
        "# Impute numeric (median) and categorical (mode)\n",
        "for c in num_cols:\n",
        "    df[c] = df[c].fillna(df[c].median())\n",
        "for c in cat_cols:\n",
        "    if df[c].isna().sum() > 0:\n",
        "        df[c] = df[c].fillna(df[c].mode()[0])\n",
        "\n",
        "# Duplicates\n",
        "if df.duplicated().any():\n",
        "    df = df.drop_duplicates()\n",
        "\n",
        "# Outliers by IQR (drop if <5%, else winsorize)\n",
        "for c in num_cols:\n",
        "    q1, q3 = df[c].quantile(0.25), df[c].quantile(0.75)\n",
        "    iqr = q3 - q1\n",
        "    lb, ub = q1 - 1.5*iqr, q3 + 1.5*iqr\n",
        "    mask = (df[c] < lb) | (df[c] > ub)\n",
        "    pct = 100 * mask.mean()\n",
        "    if pct < 5:\n",
        "        df = df[~mask]\n",
        "    else:\n",
        "        df[c] = np.where(df[c] < lb, lb, np.where(df[c] > ub, ub, df[c]))\n",
        "\n",
        "# Remove negative numeric rows\n",
        "neg_mask = (df[num_cols] < 0).any(axis=1)\n",
        "df = df[~neg_mask]\n",
        "\n",
        "# Save\n",
        "df.to_csv(OUT, index=False)\n",
        "print('Saved:', OUT, 'Shape:', df.shape)\n"
      ]
    }
  ],
  "metadata": {
    "language_info": {
      "name": "python"
    }
  },
  "nbformat": 4,
  "nbformat_minor": 2
}
