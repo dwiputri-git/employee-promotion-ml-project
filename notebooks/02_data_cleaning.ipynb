{
  "nbformat": 4,
  "nbformat_minor": 0,
  "metadata": {
    "colab": {
      "provenance": [],
      "authorship_tag": "ABX9TyP3wBDu3g9T7HVOEVaNOv6d",
      "include_colab_link": true
    },
    "kernelspec": {
      "name": "python3",
      "display_name": "Python 3"
    },
    "language_info": {
      "name": "python"
    }
  },
  "cells": [
    {
      "cell_type": "markdown",
      "metadata": {
        "id": "view-in-github",
        "colab_type": "text"
      },
      "source": [
        "<a href=\"https://colab.research.google.com/github/dwiputri-git/employee-promotion-ml-project/blob/main/notebooks/02_data_cleaning.ipynb\" target=\"_parent\"><img src=\"https://colab.research.google.com/assets/colab-badge.svg\" alt=\"Open In Colab\"/></a>"
      ]
    },
    {
      "cell_type": "code",
      "source": [
        "# Import library\n",
        "import warnings\n",
        "import pandas as pd\n",
        "import numpy as np"
      ],
      "metadata": {
        "id": "p2Xk1BOzOnVD"
      },
      "execution_count": null,
      "outputs": []
    },
    {
      "cell_type": "code",
      "source": [
        "warnings.filterwarnings('ignore')"
      ],
      "metadata": {
        "id": "wcTE28enBSVj"
      },
      "execution_count": null,
      "outputs": []
    },
    {
      "cell_type": "code",
      "execution_count": null,
      "metadata": {
        "id": "U0qnlLM096MM"
      },
      "outputs": [],
      "source": [
        "# Load data\n",
        "df = pd.read_csv('Rakamin Bootcamp - Dataset - Promotion Dataset.csv', sep = ';')"
      ]
    },
    {
      "cell_type": "code",
      "source": [
        "# 1. Cek missing value\n",
        "\n",
        "df.isnull().sum()"
      ],
      "metadata": {
        "colab": {
          "base_uri": "https://localhost:8080/",
          "height": 397
        },
        "id": "iet8YUPN-NZ3",
        "outputId": "d93695af-e31b-43cf-b58a-9b2988ac95f6"
      },
      "execution_count": null,
      "outputs": [
        {
          "output_type": "execute_result",
          "data": {
            "text/plain": [
              "Employee_ID                0\n",
              "Age                       50\n",
              "Years_at_Company          49\n",
              "Performance_Score         50\n",
              "Leadership_Score          50\n",
              "Training_Hours            50\n",
              "Projects_Handled          50\n",
              "Peer_Review_Score         50\n",
              "Current_Position_Level    50\n",
              "Promotion_Eligible        50\n",
              "dtype: int64"
            ],
            "text/html": [
              "<div>\n",
              "<style scoped>\n",
              "    .dataframe tbody tr th:only-of-type {\n",
              "        vertical-align: middle;\n",
              "    }\n",
              "\n",
              "    .dataframe tbody tr th {\n",
              "        vertical-align: top;\n",
              "    }\n",
              "\n",
              "    .dataframe thead th {\n",
              "        text-align: right;\n",
              "    }\n",
              "</style>\n",
              "<table border=\"1\" class=\"dataframe\">\n",
              "  <thead>\n",
              "    <tr style=\"text-align: right;\">\n",
              "      <th></th>\n",
              "      <th>0</th>\n",
              "    </tr>\n",
              "  </thead>\n",
              "  <tbody>\n",
              "    <tr>\n",
              "      <th>Employee_ID</th>\n",
              "      <td>0</td>\n",
              "    </tr>\n",
              "    <tr>\n",
              "      <th>Age</th>\n",
              "      <td>50</td>\n",
              "    </tr>\n",
              "    <tr>\n",
              "      <th>Years_at_Company</th>\n",
              "      <td>49</td>\n",
              "    </tr>\n",
              "    <tr>\n",
              "      <th>Performance_Score</th>\n",
              "      <td>50</td>\n",
              "    </tr>\n",
              "    <tr>\n",
              "      <th>Leadership_Score</th>\n",
              "      <td>50</td>\n",
              "    </tr>\n",
              "    <tr>\n",
              "      <th>Training_Hours</th>\n",
              "      <td>50</td>\n",
              "    </tr>\n",
              "    <tr>\n",
              "      <th>Projects_Handled</th>\n",
              "      <td>50</td>\n",
              "    </tr>\n",
              "    <tr>\n",
              "      <th>Peer_Review_Score</th>\n",
              "      <td>50</td>\n",
              "    </tr>\n",
              "    <tr>\n",
              "      <th>Current_Position_Level</th>\n",
              "      <td>50</td>\n",
              "    </tr>\n",
              "    <tr>\n",
              "      <th>Promotion_Eligible</th>\n",
              "      <td>50</td>\n",
              "    </tr>\n",
              "  </tbody>\n",
              "</table>\n",
              "</div><br><label><b>dtype:</b> int64</label>"
            ]
          },
          "metadata": {},
          "execution_count": 4
        }
      ]
    },
    {
      "cell_type": "code",
      "source": [
        "df_clean = df.copy()"
      ],
      "metadata": {
        "id": "HXes9cUNA4z5"
      },
      "execution_count": null,
      "outputs": []
    },
    {
      "cell_type": "code",
      "source": [
        "# 2. Handling Missing Values (1)\n",
        "# Hapus baris dengan missing values Promotion_Eligible (target)\n",
        "df_clean = df_clean.dropna(subset=['Promotion_Eligible'])"
      ],
      "metadata": {
        "id": "XV428van-7UU"
      },
      "execution_count": null,
      "outputs": []
    },
    {
      "cell_type": "code",
      "source": [
        "# 3. Ubah tipe data Promotion_Eligible\n",
        "df_clean['Promotion_Eligible'] = df_clean['Promotion_Eligible'].astype(int)"
      ],
      "metadata": {
        "id": "mlT1KOmr_I0U"
      },
      "execution_count": null,
      "outputs": []
    },
    {
      "cell_type": "code",
      "source": [
        "# 4. Handling Missing Values (2)\n",
        "\n",
        "# --- Kolom numerik ---\n",
        "num_cols = df_clean.select_dtypes(include=[np.number]).columns.drop(['Promotion_Eligible'])\n",
        "\n",
        "# Cek skewness setiap kolom numerik\n",
        "for col in num_cols:\n",
        "    skewness = df_clean[col].skew()\n",
        "    print(f\"{col} → skewness = {skewness:.2f}\")\n",
        "\n",
        "    if abs(skewness) > 1:\n",
        "        # Skewed → missing values isi dengan median\n",
        "        df_clean[col].fillna(df_clean[col].median(), inplace=True)\n",
        "        print(f\"   • Skewed → Imputasi oleh median ({df_clean[col].median():.2f})\")\n",
        "    else:\n",
        "        # Relatif normal → missing values isi dengan mean\n",
        "        df_clean[col].fillna(df_clean[col].mean(), inplace=True)\n",
        "        print(f\"   • Normal → Imputasi oleh mean ({df_clean[col].mean():.2f})\")\n",
        "\n",
        "print(\"\\nMissing value handled!\")\n"
      ],
      "metadata": {
        "colab": {
          "base_uri": "https://localhost:8080/"
        },
        "id": "zrGMlQdZ_9qJ",
        "outputId": "e9b2db9c-03b6-4830-f96d-f1a9d96cde00"
      },
      "execution_count": null,
      "outputs": [
        {
          "output_type": "stream",
          "name": "stdout",
          "text": [
            "Age → skewness = 2.70\n",
            "   • Skewed → Imputasi oleh median (41.00)\n",
            "Years_at_Company → skewness = 0.88\n",
            "   • Normal → Imputasi oleh mean (14.90)\n",
            "Performance_Score → skewness = 0.01\n",
            "   • Normal → Imputasi oleh mean (2.96)\n",
            "Leadership_Score → skewness = -0.04\n",
            "   • Normal → Imputasi oleh mean (50.16)\n",
            "Training_Hours → skewness = 20.62\n",
            "   • Skewed → Imputasi oleh median (103.00)\n",
            "Projects_Handled → skewness = -0.07\n",
            "   • Normal → Imputasi oleh mean (9.96)\n",
            "Peer_Review_Score → skewness = -0.06\n",
            "   • Normal → Imputasi oleh mean (51.12)\n",
            "\n",
            "Missing value handled!\n"
          ]
        }
      ]
    },
    {
      "cell_type": "code",
      "source": [
        "cat_cols = df_clean.select_dtypes(['object']).columns\n",
        "cat_cols"
      ],
      "metadata": {
        "colab": {
          "base_uri": "https://localhost:8080/"
        },
        "id": "J6V7AkFRQbDy",
        "outputId": "ffc6e610-9028-458c-9435-ed6cd8bcac7b"
      },
      "execution_count": null,
      "outputs": [
        {
          "output_type": "execute_result",
          "data": {
            "text/plain": [
              "Index(['Employee_ID', 'Current_Position_Level'], dtype='object')"
            ]
          },
          "metadata": {},
          "execution_count": 9
        }
      ]
    },
    {
      "cell_type": "code",
      "source": [
        "# --- Kategorikal ---\n",
        "col = 'Current_Position_Level'\n",
        "\n",
        "# Cek apakah ada missing values\n",
        "if df_clean[col].isna().sum() > 0:\n",
        "    impute_value = df_clean[col].mode()[0]\n",
        "    df_clean[col].fillna(impute_value, inplace=True)\n",
        "    print(f\"{col}: Imputasi oleh modus ('{impute_value}')\")"
      ],
      "metadata": {
        "colab": {
          "base_uri": "https://localhost:8080/"
        },
        "id": "bz81F4gLB5_g",
        "outputId": "c8f2a033-bfdd-49c2-b88d-a12101dd2f17"
      },
      "execution_count": null,
      "outputs": [
        {
          "output_type": "stream",
          "name": "stdout",
          "text": [
            "Current_Position_Level: Imputasi oleh modus ('Mid')\n"
          ]
        }
      ]
    },
    {
      "cell_type": "code",
      "source": [
        "# 5. Handling Duplicate\n",
        "duplicate_count = df_clean.duplicated().sum()\n",
        "print(f\"Jumlah baris duplikat: {duplicate_count}\")\n",
        "\n",
        "# Jika ada duplikat → hapus\n",
        "if duplicate_count > 0:\n",
        "    df_clean = df_clean.drop_duplicates()\n",
        "    print(f\"Setelah dihapus, ukuran data: {df_clean.shape}\")\n"
      ],
      "metadata": {
        "colab": {
          "base_uri": "https://localhost:8080/"
        },
        "id": "dvF8_SwfCk0f",
        "outputId": "56ef886b-92d1-4064-ab08-8e90ead3790f"
      },
      "execution_count": null,
      "outputs": [
        {
          "output_type": "stream",
          "name": "stdout",
          "text": [
            "Jumlah baris duplikat: 0\n"
          ]
        }
      ]
    },
    {
      "cell_type": "code",
      "source": [
        "# 6. Handling Outlier\n",
        "\n",
        "# Deteksi outlier dengan metode IQR\n",
        "for col in num_cols:\n",
        "    Q1 = df_clean[col].quantile(0.25)\n",
        "    Q3 = df_clean[col].quantile(0.75)\n",
        "    IQR = Q3 - Q1\n",
        "    lower_bound = Q1 - 1.5 * IQR\n",
        "    upper_bound = Q3 + 1.5 * IQR\n",
        "\n",
        "    mask_outlier = (df_clean[col] < lower_bound) | (df_clean[col] > upper_bound)\n",
        "    outlier_pct = 100 * mask_outlier.sum() / len(df_clean)\n",
        "\n",
        "    if outlier_pct < 5:\n",
        "        # Sedikit outlier → hapus barisnya\n",
        "        df_clean = df_clean[~mask_outlier]\n",
        "        print(f\"{col}: {outlier_pct:.2f}% outlier → dihapus ({mask_outlier.sum()} baris)\")\n",
        "    else:\n",
        "        # Banyak outlier → tangani dengan winsorization\n",
        "        df_clean[col] = np.where(df_clean[col] < lower_bound, lower_bound,\n",
        "                  np.where(df_clean[col] > upper_bound, upper_bound, df_clean[col]))\n",
        "        print(f\"{col}: {outlier_pct:.2f}% outlier → dihandling (winsorization)\")\n"
      ],
      "metadata": {
        "colab": {
          "base_uri": "https://localhost:8080/"
        },
        "id": "Sc9oNKibDoDU",
        "outputId": "98bd5718-8191-4daf-dca2-e86573d55a48"
      },
      "execution_count": null,
      "outputs": [
        {
          "output_type": "stream",
          "name": "stdout",
          "text": [
            "Age: 0.42% outlier → dihapus (4 baris)\n",
            "Years_at_Company: 0.21% outlier → dihapus (2 baris)\n",
            "Performance_Score: 0.00% outlier → dihapus (0 baris)\n",
            "Leadership_Score: 0.00% outlier → dihapus (0 baris)\n",
            "Training_Hours: 0.42% outlier → dihapus (4 baris)\n",
            "Projects_Handled: 0.00% outlier → dihapus (0 baris)\n",
            "Peer_Review_Score: 0.00% outlier → dihapus (0 baris)\n"
          ]
        }
      ]
    },
    {
      "cell_type": "code",
      "source": [
        "# 7. Deteksi & Hapus Nilai Negatif\n",
        "\n",
        "# Deteksi nilai negatif (anomali) di setiap kolom numerik\n",
        "neg_anomalies = {}\n",
        "\n",
        "for col in num_cols:\n",
        "    neg_count = (df_clean[col] < 0).sum()\n",
        "    if neg_count > 0:\n",
        "        neg_anomalies[col] = neg_count\n",
        "        print(f\"{col}: {neg_count} nilai negatif ditemukan\")\n",
        "\n",
        "# Jika ada nilai negatif → hapus barisnya\n",
        "if len(neg_anomalies) > 0:\n",
        "    total_before = df_clean.shape[0]\n",
        "    df_clean = df_clean[(df_clean[num_cols] >= 0).all(axis=1)]\n",
        "    total_after = df_clean.shape[0]\n",
        "    print(f\"Jumlah baris dihapus: {total_before - total_after}\")\n",
        "else:\n",
        "    print(\"Tidak ada nilai negatif yang ditemukan\")"
      ],
      "metadata": {
        "colab": {
          "base_uri": "https://localhost:8080/"
        },
        "id": "t67rPWkINYue",
        "outputId": "d80ee9fa-b385-40dd-e7c0-a4b23c985f6e"
      },
      "execution_count": null,
      "outputs": [
        {
          "output_type": "stream",
          "name": "stdout",
          "text": [
            "Years_at_Company: 1 nilai negatif ditemukan\n",
            "Jumlah baris dihapus: 1\n"
          ]
        }
      ]
    },
    {
      "cell_type": "code",
      "source": [
        "# 8. Simpan Hasil Data Cleaning\n",
        "df_clean.to_csv('Promotion Dataset_Clean.csv', index=False)\n",
        "print(\"Data bersih : **Promotion Dataset_Clean.csv** disimpan.\")\n"
      ],
      "metadata": {
        "colab": {
          "base_uri": "https://localhost:8080/"
        },
        "id": "SDkjwr4COKHg",
        "outputId": "eff3cc85-4dc1-4f29-d9e2-3071668aed1d"
      },
      "execution_count": null,
      "outputs": [
        {
          "output_type": "stream",
          "name": "stdout",
          "text": [
            "Data bersih : **Promotion Dataset_Clean.csv** disimpan.\n"
          ]
        }
      ]
    }
  ]
}